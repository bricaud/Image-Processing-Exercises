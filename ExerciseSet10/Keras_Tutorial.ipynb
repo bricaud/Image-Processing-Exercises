{
  "nbformat": 4,
  "nbformat_minor": 0,
  "metadata": {
    "colab": {
      "provenance": [],
      "gpuType": "T4"
    },
    "kernelspec": {
      "name": "python3",
      "display_name": "Python 3"
    },
    "language_info": {
      "name": "python"
    },
    "gpuClass": "standard",
    "accelerator": "GPU"
  },
  "cells": [
    {
      "cell_type": "code",
      "execution_count": 15,
      "metadata": {
        "id": "pRBxUdVMwr9T"
      },
      "outputs": [],
      "source": [
        "import matplotlib.pyplot as plt \n",
        "import keras\n",
        "from keras.models import Sequential\n",
        "from keras.layers import Dense, Dropout, Flatten, Conv2D, MaxPooling2D\n",
        "from keras.constraints import maxnorm \n",
        "from keras.optimizers import SGD \n",
        "from keras.utils import np_utils \n",
        "from keras import backend as K "
      ]
    },
    {
      "cell_type": "code",
      "source": [
        "K.set_image_data_format('channels_last') #N x C x H x W"
      ],
      "metadata": {
        "id": "ETWnOLBjwxRR"
      },
      "execution_count": 16,
      "outputs": []
    },
    {
      "cell_type": "code",
      "source": [
        "from keras.datasets import cifar10\n",
        "(x_train, y_train), (x_test, y_test) = cifar10.load_data()\n",
        "\n",
        "x_train = x_train.astype('float32')\n",
        "x_test = x_test.astype('float32')\n",
        "\n",
        "x_train /= 255.0\n",
        "x_test /= 255.0\n",
        "\n",
        "print(y_train)\n",
        "\n",
        "y_train = np_utils.to_categorical(y_train)\n",
        "y_test = np_utils.to_categorical(y_test)\n",
        "\n",
        "num_classes = y_test.shape[1]"
      ],
      "metadata": {
        "colab": {
          "base_uri": "https://localhost:8080/"
        },
        "id": "2F-OLqZExbnI",
        "outputId": "44d240e3-81f5-4855-9d89-6aa912d983d4"
      },
      "execution_count": 17,
      "outputs": [
        {
          "output_type": "stream",
          "name": "stdout",
          "text": [
            "[[6]\n",
            " [9]\n",
            " [9]\n",
            " ...\n",
            " [9]\n",
            " [1]\n",
            " [1]]\n"
          ]
        }
      ]
    },
    {
      "cell_type": "code",
      "source": [
        "print(y_train)"
      ],
      "metadata": {
        "colab": {
          "base_uri": "https://localhost:8080/"
        },
        "id": "-8iWTdE3dtl6",
        "outputId": "3fc1cd4d-15b4-4807-acc3-d13a346cb806"
      },
      "execution_count": 18,
      "outputs": [
        {
          "output_type": "stream",
          "name": "stdout",
          "text": [
            "[[0. 0. 0. ... 0. 0. 0.]\n",
            " [0. 0. 0. ... 0. 0. 1.]\n",
            " [0. 0. 0. ... 0. 0. 1.]\n",
            " ...\n",
            " [0. 0. 0. ... 0. 0. 1.]\n",
            " [0. 1. 0. ... 0. 0. 0.]\n",
            " [0. 1. 0. ... 0. 0. 0.]]\n"
          ]
        }
      ]
    },
    {
      "cell_type": "code",
      "source": [],
      "metadata": {
        "id": "7AL-ESebdtkZ"
      },
      "execution_count": 18,
      "outputs": []
    },
    {
      "cell_type": "code",
      "source": [
        "model = Sequential()\n",
        "\n",
        "model.add(Conv2D(32, (3,3), input_shape=(32,32,3), activation='relu', padding='same'))\n",
        "model.add(Conv2D(32, (3,3), activation='relu', padding='same'))\n",
        "model.add(MaxPooling2D(pool_size=(2,2)))\n",
        "model.add(Dropout(0.2))\n",
        "\n",
        "model.add(Conv2D(64, (3,3), activation='relu', padding='same'))\n",
        "model.add(Conv2D(64, (3,3), activation='relu', padding='same'))\n",
        "model.add(MaxPooling2D(pool_size=(2,2)))\n",
        "model.add(Dropout(0.2))\n",
        "\n",
        "model.add(Conv2D(128, (3,3), activation='relu', padding='same'))\n",
        "model.add(Conv2D(128, (3,3), activation='relu', padding='same'))\n",
        "model.add(MaxPooling2D(pool_size=(2,2)))\n",
        "model.add(Dropout(0.2))\n",
        "\n",
        "model.add(Flatten())\n",
        "model.add(Dense(128, activation='relu', kernel_constraint=maxnorm(3)))\n",
        "model.add(Dropout(0.2))\n",
        "model.add(Dense(64, activation='relu', kernel_constraint=maxnorm(3)))\n",
        "model.add(Dropout(0.2))\n",
        "model.add(Dense(num_classes, activation='softmax'))\n",
        "print(model.summary())\n",
        "\n"
      ],
      "metadata": {
        "colab": {
          "base_uri": "https://localhost:8080/"
        },
        "id": "4Bfw_mFTyNbz",
        "outputId": "722ad265-f0b1-4e6b-9d59-ce4b2033ca9b"
      },
      "execution_count": 19,
      "outputs": [
        {
          "output_type": "stream",
          "name": "stdout",
          "text": [
            "Model: \"sequential_1\"\n",
            "_________________________________________________________________\n",
            " Layer (type)                Output Shape              Param #   \n",
            "=================================================================\n",
            " conv2d_6 (Conv2D)           (None, 32, 32, 32)        896       \n",
            "                                                                 \n",
            " conv2d_7 (Conv2D)           (None, 32, 32, 32)        9248      \n",
            "                                                                 \n",
            " max_pooling2d_3 (MaxPooling  (None, 16, 16, 32)       0         \n",
            " 2D)                                                             \n",
            "                                                                 \n",
            " dropout_5 (Dropout)         (None, 16, 16, 32)        0         \n",
            "                                                                 \n",
            " conv2d_8 (Conv2D)           (None, 16, 16, 64)        18496     \n",
            "                                                                 \n",
            " conv2d_9 (Conv2D)           (None, 16, 16, 64)        36928     \n",
            "                                                                 \n",
            " max_pooling2d_4 (MaxPooling  (None, 8, 8, 64)         0         \n",
            " 2D)                                                             \n",
            "                                                                 \n",
            " dropout_6 (Dropout)         (None, 8, 8, 64)          0         \n",
            "                                                                 \n",
            " conv2d_10 (Conv2D)          (None, 8, 8, 128)         73856     \n",
            "                                                                 \n",
            " conv2d_11 (Conv2D)          (None, 8, 8, 128)         147584    \n",
            "                                                                 \n",
            " max_pooling2d_5 (MaxPooling  (None, 4, 4, 128)        0         \n",
            " 2D)                                                             \n",
            "                                                                 \n",
            " dropout_7 (Dropout)         (None, 4, 4, 128)         0         \n",
            "                                                                 \n",
            " flatten_1 (Flatten)         (None, 2048)              0         \n",
            "                                                                 \n",
            " dense_3 (Dense)             (None, 128)               262272    \n",
            "                                                                 \n",
            " dropout_8 (Dropout)         (None, 128)               0         \n",
            "                                                                 \n",
            " dense_4 (Dense)             (None, 64)                8256      \n",
            "                                                                 \n",
            " dropout_9 (Dropout)         (None, 64)                0         \n",
            "                                                                 \n",
            " dense_5 (Dense)             (None, 10)                650       \n",
            "                                                                 \n",
            "=================================================================\n",
            "Total params: 558,186\n",
            "Trainable params: 558,186\n",
            "Non-trainable params: 0\n",
            "_________________________________________________________________\n",
            "None\n"
          ]
        }
      ]
    },
    {
      "cell_type": "code",
      "source": [
        "lrate = 0.01\n",
        "epochs = 40\n",
        "decay = lrate/epochs\n",
        "sgd = SGD(learning_rate=lrate, momentum=0.9, decay=decay, nesterov=False)\n",
        "model.compile(optimizer=sgd, loss='categorical_crossentropy', metrics =['accuracy'])"
      ],
      "metadata": {
        "id": "ZlVs3cL5zXp0"
      },
      "execution_count": 20,
      "outputs": []
    },
    {
      "cell_type": "code",
      "source": [
        "history = model.fit(x_train, y_train, validation_data=(x_test, y_test), epochs=epochs, batch_size=32)"
      ],
      "metadata": {
        "colab": {
          "base_uri": "https://localhost:8080/"
        },
        "id": "2CLsChau1Ln3",
        "outputId": "c9a8c943-623b-468c-bb1e-f9aa6cbefe04"
      },
      "execution_count": null,
      "outputs": [
        {
          "output_type": "stream",
          "name": "stdout",
          "text": [
            "Epoch 1/40\n",
            "1563/1563 [==============================] - 23s 14ms/step - loss: 1.9795 - accuracy: 0.2645 - val_loss: 1.6128 - val_accuracy: 0.4063\n",
            "Epoch 2/40\n",
            "1563/1563 [==============================] - 12s 8ms/step - loss: 1.5697 - accuracy: 0.4224 - val_loss: 1.3816 - val_accuracy: 0.4977\n",
            "Epoch 3/40\n",
            "1563/1563 [==============================] - 11s 7ms/step - loss: 1.3533 - accuracy: 0.5105 - val_loss: 1.2080 - val_accuracy: 0.5669\n",
            "Epoch 4/40\n",
            "1563/1563 [==============================] - 12s 7ms/step - loss: 1.2023 - accuracy: 0.5685 - val_loss: 1.0175 - val_accuracy: 0.6339\n",
            "Epoch 5/40\n",
            "1563/1563 [==============================] - 11s 7ms/step - loss: 1.0787 - accuracy: 0.6205 - val_loss: 0.9420 - val_accuracy: 0.6661\n",
            "Epoch 6/40\n",
            "1563/1563 [==============================] - 12s 8ms/step - loss: 0.9757 - accuracy: 0.6547 - val_loss: 0.9137 - val_accuracy: 0.6770\n",
            "Epoch 7/40\n",
            "1563/1563 [==============================] - 11s 7ms/step - loss: 0.8997 - accuracy: 0.6858 - val_loss: 0.8195 - val_accuracy: 0.7142\n",
            "Epoch 8/40\n",
            "1563/1563 [==============================] - 13s 8ms/step - loss: 0.8362 - accuracy: 0.7084 - val_loss: 0.8199 - val_accuracy: 0.7166\n",
            "Epoch 9/40\n",
            "1563/1563 [==============================] - 13s 8ms/step - loss: 0.7841 - accuracy: 0.7272 - val_loss: 0.7695 - val_accuracy: 0.7327\n",
            "Epoch 10/40\n",
            "1563/1563 [==============================] - 11s 7ms/step - loss: 0.7358 - accuracy: 0.7449 - val_loss: 0.7378 - val_accuracy: 0.7462\n",
            "Epoch 11/40\n",
            "1563/1563 [==============================] - 12s 7ms/step - loss: 0.6944 - accuracy: 0.7596 - val_loss: 0.7133 - val_accuracy: 0.7543\n",
            "Epoch 12/40\n",
            "1563/1563 [==============================] - 11s 7ms/step - loss: 0.6641 - accuracy: 0.7717 - val_loss: 0.6853 - val_accuracy: 0.7608\n",
            "Epoch 13/40\n",
            "1563/1563 [==============================] - 11s 7ms/step - loss: 0.6299 - accuracy: 0.7822 - val_loss: 0.6793 - val_accuracy: 0.7664\n",
            "Epoch 14/40\n",
            "1563/1563 [==============================] - 12s 7ms/step - loss: 0.6019 - accuracy: 0.7913 - val_loss: 0.6482 - val_accuracy: 0.7775\n",
            "Epoch 15/40\n",
            "1563/1563 [==============================] - 11s 7ms/step - loss: 0.5799 - accuracy: 0.7983 - val_loss: 0.6614 - val_accuracy: 0.7778\n",
            "Epoch 16/40\n",
            "1563/1563 [==============================] - 11s 7ms/step - loss: 0.5530 - accuracy: 0.8089 - val_loss: 0.6372 - val_accuracy: 0.7835\n",
            "Epoch 17/40\n",
            "1563/1563 [==============================] - 11s 7ms/step - loss: 0.5338 - accuracy: 0.8141 - val_loss: 0.6351 - val_accuracy: 0.7889\n",
            "Epoch 18/40\n",
            "1563/1563 [==============================] - 11s 7ms/step - loss: 0.5184 - accuracy: 0.8195 - val_loss: 0.6323 - val_accuracy: 0.7877\n",
            "Epoch 19/40\n",
            "1563/1563 [==============================] - 11s 7ms/step - loss: 0.4951 - accuracy: 0.8297 - val_loss: 0.6240 - val_accuracy: 0.7920\n",
            "Epoch 20/40\n",
            "1563/1563 [==============================] - 11s 7ms/step - loss: 0.4841 - accuracy: 0.8318 - val_loss: 0.6161 - val_accuracy: 0.7951\n",
            "Epoch 21/40\n",
            "1563/1563 [==============================] - 11s 7ms/step - loss: 0.4610 - accuracy: 0.8405 - val_loss: 0.6252 - val_accuracy: 0.7938\n",
            "Epoch 22/40\n",
            "1563/1563 [==============================] - 11s 7ms/step - loss: 0.4490 - accuracy: 0.8429 - val_loss: 0.6154 - val_accuracy: 0.7991\n",
            "Epoch 23/40\n",
            "1563/1563 [==============================] - 12s 7ms/step - loss: 0.4417 - accuracy: 0.8474 - val_loss: 0.6137 - val_accuracy: 0.8042\n",
            "Epoch 24/40\n",
            "1563/1563 [==============================] - 11s 7ms/step - loss: 0.4253 - accuracy: 0.8540 - val_loss: 0.6291 - val_accuracy: 0.7962\n",
            "Epoch 25/40\n",
            "1563/1563 [==============================] - 11s 7ms/step - loss: 0.4146 - accuracy: 0.8551 - val_loss: 0.6103 - val_accuracy: 0.8036\n",
            "Epoch 26/40\n",
            "1563/1563 [==============================] - 11s 7ms/step - loss: 0.4017 - accuracy: 0.8617 - val_loss: 0.6005 - val_accuracy: 0.8057\n",
            "Epoch 27/40\n",
            "1563/1563 [==============================] - 11s 7ms/step - loss: 0.3951 - accuracy: 0.8625 - val_loss: 0.6175 - val_accuracy: 0.8014\n",
            "Epoch 28/40\n",
            "1563/1563 [==============================] - 12s 7ms/step - loss: 0.3764 - accuracy: 0.8698 - val_loss: 0.6322 - val_accuracy: 0.8024\n",
            "Epoch 29/40\n",
            "1563/1563 [==============================] - 11s 7ms/step - loss: 0.3685 - accuracy: 0.8702 - val_loss: 0.6122 - val_accuracy: 0.8054\n",
            "Epoch 30/40\n",
            "1563/1563 [==============================] - 11s 7ms/step - loss: 0.3587 - accuracy: 0.8755 - val_loss: 0.6248 - val_accuracy: 0.8059\n",
            "Epoch 31/40\n",
            "1563/1563 [==============================] - 12s 7ms/step - loss: 0.3518 - accuracy: 0.8763 - val_loss: 0.6189 - val_accuracy: 0.8064\n",
            "Epoch 32/40\n",
            "1379/1563 [=========================>....] - ETA: 1s - loss: 0.3440 - accuracy: 0.8790"
          ]
        }
      ]
    },
    {
      "cell_type": "code",
      "source": [
        "scores = model.evaluate(x_test, y_test, verbose=0)\n",
        "print('Accuracy: %.2f%%' % (scores[1]*100))"
      ],
      "metadata": {
        "id": "C0NwaPTU1a5F"
      },
      "execution_count": null,
      "outputs": []
    },
    {
      "cell_type": "code",
      "source": [
        "def summarize_diagnostics(history):\n",
        "  fig, ax = plt.subplots(1,2)\n",
        "  #plt.subplots(211)\n",
        "  ax[0].set_title('Mean Square Error')\n",
        "  ax[0].plot(history.history['loss'], color='blue', label='train')\n",
        "  ax[0].plot(history.history['val_loss'], color='orange', label='test')\n",
        "\n",
        "  #plt.subplots(212)\n",
        "  ax[1].set_title('Classification Accuracy')\n",
        "  ax[1].plot(history.history['accuracy'], color='blue', label='train')\n",
        "  ax[1].plot(history.history['val_accuracy'], color='orange', label='test')\n",
        "\n",
        "  # filename = sys.argv[0].split('/')[-1]\n",
        "  # plt.savefig(filename + '_plot.png')\n",
        "  plt.show()\n",
        "  #plt.close()\n",
        "\n",
        "summarize_diagnostics(history)"
      ],
      "metadata": {
        "id": "dcrbALwl1ug7"
      },
      "execution_count": null,
      "outputs": []
    },
    {
      "cell_type": "code",
      "source": [
        "print(history.history.keys())"
      ],
      "metadata": {
        "id": "vTSkqk-M35BP"
      },
      "execution_count": null,
      "outputs": []
    },
    {
      "cell_type": "code",
      "source": [],
      "metadata": {
        "id": "sBxJ2qQN4CMB"
      },
      "execution_count": null,
      "outputs": []
    }
  ]
}